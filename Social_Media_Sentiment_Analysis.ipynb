{
  "nbformat": 4,
  "nbformat_minor": 0,
  "metadata": {
    "colab": {
      "private_outputs": true,
      "provenance": []
    },
    "kernelspec": {
      "name": "python3",
      "display_name": "Python 3"
    },
    "language_info": {
      "name": "python"
    }
  },
  "cells": [
    {
      "cell_type": "code",
      "execution_count": null,
      "metadata": {
        "id": "3WRJKQcvXYgp"
      },
      "outputs": [],
      "source": [
        "import re\n",
        "import pandas as pd\n",
        "import numpy as np\n",
        "import matplotlib.pyplot as plt\n",
        "import seaborn as sns\n",
        "import string\n",
        "import nltk\n",
        "import warnings\n",
        "warnings.filterwarnings(\"ignore\", category=DeprecationWarning)\n",
        "\n",
        "%matplotlib inline"
      ]
    },
    {
      "cell_type": "code",
      "source": [
        "train = pd.read_csv('https://raw.githubusercontent.com/caughtonthecode/Social-Media-Sentiment-Analysis/master/train.csv')\n",
        "\n",
        "train_original=train.copy()"
      ],
      "metadata": {
        "id": "24Cfmgr5YvwG"
      },
      "execution_count": null,
      "outputs": []
    },
    {
      "cell_type": "code",
      "source": [
        "test = pd.read_csv('https://raw.githubusercontent.com/caughtonthecode/Social-Media-Sentiment-Analysis/master/test.csv')\n",
        "\n",
        "test_original=test.copy()"
      ],
      "metadata": {
        "id": "NtqT-olpY3cu"
      },
      "execution_count": null,
      "outputs": []
    },
    {
      "cell_type": "code",
      "source": [
        "combine = train.append(test,ignore_index=True,sort=True)"
      ],
      "metadata": {
        "id": "TuRZpF7bZA3F"
      },
      "execution_count": null,
      "outputs": []
    },
    {
      "cell_type": "code",
      "source": [
        "\n",
        "def remove_pattern(text,pattern):\n",
        "\n",
        "    r = re.findall(pattern,text)\n",
        "    for i in r:\n",
        "        text = re.sub(i,\"\",text)\n",
        "\n",
        "    return text"
      ],
      "metadata": {
        "id": "WBBc1E46ZGMO"
      },
      "execution_count": null,
      "outputs": []
    },
    {
      "cell_type": "code",
      "source": [
        "combine['Tidy_Tweets'] = np.vectorize(remove_pattern)(combine['tweet'], \"@[\\w]*\")\n",
        "\n",
        "combine.head()"
      ],
      "metadata": {
        "id": "x0HEYKZRZJu2"
      },
      "execution_count": null,
      "outputs": []
    },
    {
      "cell_type": "code",
      "source": [
        "combine['Tidy_Tweets'] = combine['Tidy_Tweets'].str.replace(\"[^a-zA-Z#]\", \" \")\n",
        "\n",
        "combine.head(10)"
      ],
      "metadata": {
        "id": "JTyRkXzgZOYi"
      },
      "execution_count": null,
      "outputs": []
    },
    {
      "cell_type": "code",
      "source": [
        "combine['Tidy_Tweets'] = combine['Tidy_Tweets'].apply(lambda x: ' '.join([w for w in x.split() if len(w)>3]))\n",
        "\n",
        "combine.head(10)"
      ],
      "metadata": {
        "id": "Gon3UN-BZRiM"
      },
      "execution_count": null,
      "outputs": []
    },
    {
      "cell_type": "code",
      "source": [
        "\n",
        "tokenized_tweet = combine['Tidy_Tweets'].apply(lambda x: x.split())\n",
        "\n",
        "tokenized_tweet.head()"
      ],
      "metadata": {
        "id": "4xTtwgX6ZWAq"
      },
      "execution_count": null,
      "outputs": []
    },
    {
      "cell_type": "code",
      "source": [
        "from nltk import PorterStemmer\n",
        "\n",
        "ps = PorterStemmer()\n",
        "\n",
        "tokenized_tweet = tokenized_tweet.apply(lambda x: [ps.stem(i) for i in x])\n",
        "\n",
        "tokenized_tweet.head()"
      ],
      "metadata": {
        "id": "qHaGcruxZZOW"
      },
      "execution_count": null,
      "outputs": []
    },
    {
      "cell_type": "code",
      "source": [
        "\n",
        "for i in range(len(tokenized_tweet)):\n",
        "    tokenized_tweet[i] = ' '.join(tokenized_tweet[i])\n",
        "\n",
        "combine['Tidy_Tweets'] = tokenized_tweet\n",
        "combine.head()"
      ],
      "metadata": {
        "id": "74vJi123ZcEA"
      },
      "execution_count": null,
      "outputs": []
    },
    {
      "cell_type": "code",
      "source": [
        "\n",
        "from wordcloud import WordCloud,ImageColorGenerator\n",
        "from PIL import Image\n",
        "import urllib\n",
        "import requests"
      ],
      "metadata": {
        "id": "W0qCQNsoZe_C"
      },
      "execution_count": null,
      "outputs": []
    },
    {
      "cell_type": "code",
      "source": [
        "all_words_positive = ' '.join(text for text in combine['Tidy_Tweets'][combine['label']==0])"
      ],
      "metadata": {
        "id": "KqTqjDR-ZiZH"
      },
      "execution_count": null,
      "outputs": []
    },
    {
      "cell_type": "code",
      "source": [
        "Mask = np.array(Image.open(requests.get('http://clipart-library.com/image_gallery2/Twitter-PNG-Image.png', stream=True).raw))\n",
        "\n",
        "image_colors = ImageColorGenerator(Mask)\n",
        "\n",
        "\n",
        "wc = WordCloud(background_color='black', height=1500, width=4000,mask=Mask).generate(all_words_positive)"
      ],
      "metadata": {
        "id": "JSqz-s2hZnQw"
      },
      "execution_count": null,
      "outputs": []
    },
    {
      "cell_type": "code",
      "source": [
        "plt.figure(figsize=(10,20))\n",
        "\n",
        "plt.imshow(wc.recolor(color_func=image_colors),interpolation=\"hamming\")\n",
        "\n",
        "plt.axis('off')\n",
        "plt.show()"
      ],
      "metadata": {
        "id": "2ES0muJHZrsi"
      },
      "execution_count": null,
      "outputs": []
    },
    {
      "cell_type": "code",
      "source": [
        "all_words_positive = ' '.join(text for text in combine['Tidy_Tweets'][combine['label']==1])"
      ],
      "metadata": {
        "id": "6zG4gk3lZusL"
      },
      "execution_count": null,
      "outputs": []
    },
    {
      "cell_type": "code",
      "source": [
        "Mask = np.array(Image.open(requests.get('http://clipart-library.com/image_gallery2/Twitter-PNG-Image.png', stream=True).raw))\n",
        "\n",
        "image_colors = ImageColorGenerator(Mask)\n",
        "\n",
        "wc = WordCloud(background_color='black', height=1500, width=4000,mask=Mask).generate(all_words_positive)"
      ],
      "metadata": {
        "id": "oMK94KsfZ1ru"
      },
      "execution_count": null,
      "outputs": []
    },
    {
      "cell_type": "code",
      "source": [
        "plt.figure(figsize=(10,20))\n",
        "\n",
        "\n",
        "plt.imshow(wc.recolor(color_func=image_colors),interpolation=\"gaussian\")\n",
        "\n",
        "plt.axis('off')\n",
        "plt.show()"
      ],
      "metadata": {
        "id": "A6hY-LvvZ40B"
      },
      "execution_count": null,
      "outputs": []
    },
    {
      "cell_type": "code",
      "source": [
        "def Hashtags_Extract(x):\n",
        "    hashtags=[]\n",
        "\n",
        "    for i in x:\n",
        "        ht = re.findall(r'#(\\w+)',i)\n",
        "        hashtags.append(ht)\n",
        "\n",
        "    return hashtags"
      ],
      "metadata": {
        "id": "mgDq6s6kbAi0"
      },
      "execution_count": null,
      "outputs": []
    },
    {
      "cell_type": "code",
      "source": [
        "\n",
        "ht_positive = Hashtags_Extract(combine['Tidy_Tweets'][combine['label']==0])\n",
        "\n",
        "ht_positive"
      ],
      "metadata": {
        "id": "_FAK0wH8bEIb"
      },
      "execution_count": null,
      "outputs": []
    },
    {
      "cell_type": "code",
      "source": [
        "ht_positive_unnest = sum(ht_positive,[])"
      ],
      "metadata": {
        "id": "dgXiDfXJbGFC"
      },
      "execution_count": null,
      "outputs": []
    },
    {
      "cell_type": "code",
      "source": [
        "ht_negative = Hashtags_Extract(combine['Tidy_Tweets'][combine['label']==1])\n",
        "\n",
        "ht_negative"
      ],
      "metadata": {
        "id": "f0qr4xSVbIml"
      },
      "execution_count": null,
      "outputs": []
    },
    {
      "cell_type": "code",
      "source": [
        "ht_negative = Hashtags_Extract(combine['Tidy_Tweets'][combine['label']==1])\n",
        "\n",
        "ht_negative"
      ],
      "metadata": {
        "id": "0dZDJPTIbL_j"
      },
      "execution_count": null,
      "outputs": []
    },
    {
      "cell_type": "code",
      "source": [
        "ht_negative_unnest = sum(ht_negative,[])"
      ],
      "metadata": {
        "id": "hmTSfn5ubX-G"
      },
      "execution_count": null,
      "outputs": []
    },
    {
      "cell_type": "code",
      "source": [
        "\n",
        "word_freq_positive = nltk.FreqDist(ht_positive_unnest)\n",
        "\n",
        "word_freq_positive"
      ],
      "metadata": {
        "id": "diM7vorrbRdH"
      },
      "execution_count": null,
      "outputs": []
    },
    {
      "cell_type": "code",
      "source": [
        "df_positive = pd.DataFrame({'Hashtags':list(word_freq_positive.keys()),'Count':list(word_freq_positive.values())})\n",
        "\n",
        "df_positive.head(10)"
      ],
      "metadata": {
        "id": "gBWMEsCpbbey"
      },
      "execution_count": null,
      "outputs": []
    },
    {
      "cell_type": "code",
      "source": [
        "\n",
        "df_positive_plot = df_positive.nlargest(20,columns='Count')\n",
        "\n",
        "sns.barplot(data=df_positive_plot,y='Hashtags',x='Count')\n",
        "sns.despine()"
      ],
      "metadata": {
        "id": "9-FtQnQhbdvA"
      },
      "execution_count": null,
      "outputs": []
    },
    {
      "cell_type": "code",
      "source": [
        "\n",
        "word_freq_negative = nltk.FreqDist(ht_negative_unnest)\n",
        "\n",
        "word_freq_negative"
      ],
      "metadata": {
        "id": "8BfmhJdWbiMI"
      },
      "execution_count": null,
      "outputs": []
    },
    {
      "cell_type": "code",
      "source": [
        "df_negative = pd.DataFrame({'Hashtags':list(word_freq_negative.keys()),'Count':list(word_freq_negative.values())})\n",
        "\n",
        "df_negative.head(10)"
      ],
      "metadata": {
        "id": "lYcmCg9xblDp"
      },
      "execution_count": null,
      "outputs": []
    },
    {
      "cell_type": "code",
      "source": [
        "\n",
        "df_negative_plot = df_negative.nlargest(20,columns='Count')\n",
        "\n",
        "sns.barplot(data=df_negative_plot,y='Hashtags',x='Count')\n",
        "sns.despine()"
      ],
      "metadata": {
        "id": "lEjXSt6RbnZA"
      },
      "execution_count": null,
      "outputs": []
    },
    {
      "cell_type": "code",
      "source": [],
      "metadata": {
        "id": "RSiVlEbhbppn"
      },
      "execution_count": null,
      "outputs": []
    }
  ]
}